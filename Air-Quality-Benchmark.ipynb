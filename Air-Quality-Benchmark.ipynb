{
 "cells": [
  {
   "cell_type": "code",
   "execution_count": 1,
   "id": "515bd158",
   "metadata": {},
   "outputs": [],
   "source": [
    "import numpy as np \n",
    "import pandas as pd\n",
    "import seaborn as sns\n",
    "import matplotlib.pyplot as plt\n",
    "from sklearn.preprocessing import StandardScaler\n",
    "from sklearn.preprocessing import LabelEncoder\n",
    "from sklearn.model_selection import train_test_split\n",
    "from sklearn.linear_model import LogisticRegression\n",
    "from sklearn.neighbors import KNeighborsClassifier\n",
    "from sklearn.tree import DecisionTreeClassifier\n",
    "from sklearn.ensemble import RandomForestClassifier\n",
    "from sklearn.metrics import accuracy_score"
   ]
  },
  {
   "cell_type": "markdown",
   "id": "20f314f8",
   "metadata": {},
   "source": [
    "Air quality in Frankfurt has been monitored between the 31/12/2018 and the 20/02/2020. Some observations in relation to time, weather, air pollution (PM 2.5) values collected from some sense-boxes installed in 14 locations scattered in Frankfurt, Germany.\n",
    "\n",
    "An Air quality dataset has been made available in publicly. The dataset has the following data:\n",
    "\n",
    "temperatures\n",
    "\n",
    "pressure\n",
    "\n",
    "humidity\n",
    "\n",
    "wind speed\n",
    "\n",
    "peak or no peak: 0: 'Peak', 1: 'No_Peak'\n",
    "\n",
    "time of day : 0: 'Evening_Hours', 1: 'Night_Hours', 2: 'Morning_Hours', 3: 'Afternoon_Hours'\n",
    "\n",
    "day : 0: 'Monday', 1: 'Tuesday', 2: 'Wednesday', 3: 'Thursday', 4: 'Friday', 5: 'Saturday', 6: 'Sunday'\n",
    "\n",
    "week day : 0: 'Workday', 1: 'Weekend'\n",
    "\n",
    "weather : 0: 'Clouds', 1: 'Mist', 2: 'Fog', 3: 'Rain', 4: 'Drizzle', 5: 'Drizzle + Rain', 6: 'Clear', 7: 'Snow', 8: 'Snow + Mist', 9: 'Drizzle + Snow + Mist', 10: 'Drizzle + Rain + Mist', 11: 'Drizzle + Mist', 12: 'Rain + Snow', 13: 'Rain + Mist', 14: 'Mist + Fog', 15: 'Thunderstorm + Rain', 16: 'Squall', 17: 'Haze', 18: 'Thunderstorm', 19: 'Thunderstorm + Squall', 20: 'Rain + Fog', 21: 'Snow + Mist + Fog', 22: 'Snow + Fog'}\n",
    "\n",
    "lattitude\n",
    "\n",
    "longitude\n",
    "\n",
    "pm 2.5 level: see explanation below\n",
    "\n",
    "A PM 2.5 level obtained following the range of values\n",
    "\n",
    "Between [0 and 10] - lowest risks to increase pulmonary disease - PM 2.5 Level 1\n",
    "\n",
    "Between ]10 and 15], PM 2.5 level = 2\n",
    "\n",
    "Between ]15 and 25], PM 2.5 level = 3\n",
    "\n",
    "Between ]25 and 35], PM 2.5 level = 4\n",
    "\n",
    "PM 2.5 > 35, PM 2.5 level = 5 - long term mortality risks"
   ]
  },
  {
   "cell_type": "code",
   "execution_count": 2,
   "id": "e97bb9ce",
   "metadata": {},
   "outputs": [
    {
     "data": {
      "text/html": [
       "<div>\n",
       "<style scoped>\n",
       "    .dataframe tbody tr th:only-of-type {\n",
       "        vertical-align: middle;\n",
       "    }\n",
       "\n",
       "    .dataframe tbody tr th {\n",
       "        vertical-align: top;\n",
       "    }\n",
       "\n",
       "    .dataframe thead th {\n",
       "        text-align: right;\n",
       "    }\n",
       "</style>\n",
       "<table border=\"1\" class=\"dataframe\">\n",
       "  <thead>\n",
       "    <tr style=\"text-align: right;\">\n",
       "      <th></th>\n",
       "      <th>Time_stamp</th>\n",
       "      <th>boxName</th>\n",
       "      <th>PM 2.5</th>\n",
       "      <th>temp</th>\n",
       "      <th>pressure</th>\n",
       "      <th>humidity</th>\n",
       "      <th>wind_speed</th>\n",
       "      <th>Time of Day</th>\n",
       "      <th>Peak/NoPeak</th>\n",
       "      <th>Day</th>\n",
       "      <th>Week Day</th>\n",
       "      <th>Weather</th>\n",
       "      <th>label</th>\n",
       "    </tr>\n",
       "  </thead>\n",
       "  <tbody>\n",
       "    <tr>\n",
       "      <th>0</th>\n",
       "      <td>2018-12-31 18:30:12</td>\n",
       "      <td>iGude</td>\n",
       "      <td>18.20</td>\n",
       "      <td>7.71</td>\n",
       "      <td>1032</td>\n",
       "      <td>100</td>\n",
       "      <td>3.09</td>\n",
       "      <td>Evening_Hours</td>\n",
       "      <td>Peak</td>\n",
       "      <td>Monday</td>\n",
       "      <td>Workday</td>\n",
       "      <td>Clouds</td>\n",
       "      <td>normal</td>\n",
       "    </tr>\n",
       "    <tr>\n",
       "      <th>1</th>\n",
       "      <td>2018-12-31 18:32:41</td>\n",
       "      <td>iGude</td>\n",
       "      <td>19.27</td>\n",
       "      <td>7.71</td>\n",
       "      <td>1032</td>\n",
       "      <td>100</td>\n",
       "      <td>3.09</td>\n",
       "      <td>Evening_Hours</td>\n",
       "      <td>Peak</td>\n",
       "      <td>Monday</td>\n",
       "      <td>Workday</td>\n",
       "      <td>Clouds</td>\n",
       "      <td>normal</td>\n",
       "    </tr>\n",
       "    <tr>\n",
       "      <th>2</th>\n",
       "      <td>2018-12-31 18:35:11</td>\n",
       "      <td>iGude</td>\n",
       "      <td>18.57</td>\n",
       "      <td>7.71</td>\n",
       "      <td>1032</td>\n",
       "      <td>100</td>\n",
       "      <td>3.09</td>\n",
       "      <td>Evening_Hours</td>\n",
       "      <td>Peak</td>\n",
       "      <td>Monday</td>\n",
       "      <td>Workday</td>\n",
       "      <td>Clouds</td>\n",
       "      <td>normal</td>\n",
       "    </tr>\n",
       "    <tr>\n",
       "      <th>3</th>\n",
       "      <td>2018-12-31 18:37:41</td>\n",
       "      <td>iGude</td>\n",
       "      <td>17.85</td>\n",
       "      <td>7.71</td>\n",
       "      <td>1032</td>\n",
       "      <td>100</td>\n",
       "      <td>3.09</td>\n",
       "      <td>Evening_Hours</td>\n",
       "      <td>Peak</td>\n",
       "      <td>Monday</td>\n",
       "      <td>Workday</td>\n",
       "      <td>Clouds</td>\n",
       "      <td>normal</td>\n",
       "    </tr>\n",
       "    <tr>\n",
       "      <th>4</th>\n",
       "      <td>2018-12-31 18:40:11</td>\n",
       "      <td>iGude</td>\n",
       "      <td>25.95</td>\n",
       "      <td>7.71</td>\n",
       "      <td>1032</td>\n",
       "      <td>100</td>\n",
       "      <td>3.09</td>\n",
       "      <td>Evening_Hours</td>\n",
       "      <td>Peak</td>\n",
       "      <td>Monday</td>\n",
       "      <td>Workday</td>\n",
       "      <td>Clouds</td>\n",
       "      <td>normal</td>\n",
       "    </tr>\n",
       "    <tr>\n",
       "      <th>5</th>\n",
       "      <td>2018-12-31 18:42:40</td>\n",
       "      <td>iGude</td>\n",
       "      <td>27.60</td>\n",
       "      <td>7.71</td>\n",
       "      <td>1032</td>\n",
       "      <td>100</td>\n",
       "      <td>3.09</td>\n",
       "      <td>Evening_Hours</td>\n",
       "      <td>Peak</td>\n",
       "      <td>Monday</td>\n",
       "      <td>Workday</td>\n",
       "      <td>Clouds</td>\n",
       "      <td>normal</td>\n",
       "    </tr>\n",
       "    <tr>\n",
       "      <th>6</th>\n",
       "      <td>2018-12-31 18:45:09</td>\n",
       "      <td>iGude</td>\n",
       "      <td>27.87</td>\n",
       "      <td>7.71</td>\n",
       "      <td>1032</td>\n",
       "      <td>100</td>\n",
       "      <td>3.09</td>\n",
       "      <td>Evening_Hours</td>\n",
       "      <td>Peak</td>\n",
       "      <td>Monday</td>\n",
       "      <td>Workday</td>\n",
       "      <td>Clouds</td>\n",
       "      <td>normal</td>\n",
       "    </tr>\n",
       "    <tr>\n",
       "      <th>7</th>\n",
       "      <td>2018-12-31 18:47:39</td>\n",
       "      <td>iGude</td>\n",
       "      <td>20.95</td>\n",
       "      <td>7.71</td>\n",
       "      <td>1032</td>\n",
       "      <td>100</td>\n",
       "      <td>3.09</td>\n",
       "      <td>Evening_Hours</td>\n",
       "      <td>Peak</td>\n",
       "      <td>Monday</td>\n",
       "      <td>Workday</td>\n",
       "      <td>Clouds</td>\n",
       "      <td>normal</td>\n",
       "    </tr>\n",
       "    <tr>\n",
       "      <th>8</th>\n",
       "      <td>2018-12-31 18:50:08</td>\n",
       "      <td>iGude</td>\n",
       "      <td>24.35</td>\n",
       "      <td>7.71</td>\n",
       "      <td>1032</td>\n",
       "      <td>100</td>\n",
       "      <td>3.09</td>\n",
       "      <td>Evening_Hours</td>\n",
       "      <td>Peak</td>\n",
       "      <td>Monday</td>\n",
       "      <td>Workday</td>\n",
       "      <td>Clouds</td>\n",
       "      <td>normal</td>\n",
       "    </tr>\n",
       "    <tr>\n",
       "      <th>9</th>\n",
       "      <td>2018-12-31 18:52:37</td>\n",
       "      <td>iGude</td>\n",
       "      <td>21.42</td>\n",
       "      <td>7.71</td>\n",
       "      <td>1032</td>\n",
       "      <td>100</td>\n",
       "      <td>3.09</td>\n",
       "      <td>Evening_Hours</td>\n",
       "      <td>Peak</td>\n",
       "      <td>Monday</td>\n",
       "      <td>Workday</td>\n",
       "      <td>Clouds</td>\n",
       "      <td>normal</td>\n",
       "    </tr>\n",
       "  </tbody>\n",
       "</table>\n",
       "</div>"
      ],
      "text/plain": [
       "            Time_stamp boxName  PM 2.5  temp  pressure  humidity  wind_speed  \\\n",
       "0  2018-12-31 18:30:12   iGude   18.20  7.71      1032       100        3.09   \n",
       "1  2018-12-31 18:32:41   iGude   19.27  7.71      1032       100        3.09   \n",
       "2  2018-12-31 18:35:11   iGude   18.57  7.71      1032       100        3.09   \n",
       "3  2018-12-31 18:37:41   iGude   17.85  7.71      1032       100        3.09   \n",
       "4  2018-12-31 18:40:11   iGude   25.95  7.71      1032       100        3.09   \n",
       "5  2018-12-31 18:42:40   iGude   27.60  7.71      1032       100        3.09   \n",
       "6  2018-12-31 18:45:09   iGude   27.87  7.71      1032       100        3.09   \n",
       "7  2018-12-31 18:47:39   iGude   20.95  7.71      1032       100        3.09   \n",
       "8  2018-12-31 18:50:08   iGude   24.35  7.71      1032       100        3.09   \n",
       "9  2018-12-31 18:52:37   iGude   21.42  7.71      1032       100        3.09   \n",
       "\n",
       "     Time of Day Peak/NoPeak     Day Week Day Weather   label  \n",
       "0  Evening_Hours        Peak  Monday  Workday  Clouds  normal  \n",
       "1  Evening_Hours        Peak  Monday  Workday  Clouds  normal  \n",
       "2  Evening_Hours        Peak  Monday  Workday  Clouds  normal  \n",
       "3  Evening_Hours        Peak  Monday  Workday  Clouds  normal  \n",
       "4  Evening_Hours        Peak  Monday  Workday  Clouds  normal  \n",
       "5  Evening_Hours        Peak  Monday  Workday  Clouds  normal  \n",
       "6  Evening_Hours        Peak  Monday  Workday  Clouds  normal  \n",
       "7  Evening_Hours        Peak  Monday  Workday  Clouds  normal  \n",
       "8  Evening_Hours        Peak  Monday  Workday  Clouds  normal  \n",
       "9  Evening_Hours        Peak  Monday  Workday  Clouds  normal  "
      ]
     },
     "execution_count": 2,
     "metadata": {},
     "output_type": "execute_result"
    }
   ],
   "source": [
    "#Load dataset into pandas dataframe\n",
    "df = pd.read_csv(\"./Air Quality Benchmark dataset.csv\")\n",
    "#Print first 10 rows of the dataset.\n",
    "df.head(10)"
   ]
  },
  {
   "cell_type": "code",
   "execution_count": 3,
   "id": "dc93ca7b",
   "metadata": {},
   "outputs": [
    {
     "data": {
      "text/plain": [
       "(1230693, 13)"
      ]
     },
     "execution_count": 3,
     "metadata": {},
     "output_type": "execute_result"
    }
   ],
   "source": [
    "#print number of rows and columns in that dataset\n",
    "df.shape"
   ]
  },
  {
   "cell_type": "markdown",
   "id": "d4d7790a",
   "metadata": {},
   "source": [
    "This dataset contain 1230693 rows and 13 columns."
   ]
  },
  {
   "cell_type": "code",
   "execution_count": 4,
   "id": "fc23d9a4",
   "metadata": {},
   "outputs": [
    {
     "data": {
      "text/plain": [
       "Index(['Time_stamp', 'boxName', 'PM 2.5', 'temp', 'pressure', 'humidity',\n",
       "       'wind_speed', 'Time of Day', 'Peak/NoPeak', 'Day', 'Week Day',\n",
       "       'Weather', 'label'],\n",
       "      dtype='object')"
      ]
     },
     "execution_count": 4,
     "metadata": {},
     "output_type": "execute_result"
    }
   ],
   "source": [
    "#Print name of the all columns. \n",
    "df.columns"
   ]
  },
  {
   "cell_type": "code",
   "execution_count": 5,
   "id": "5bb47cee",
   "metadata": {},
   "outputs": [
    {
     "name": "stdout",
     "output_type": "stream",
     "text": [
      "<class 'pandas.core.frame.DataFrame'>\n",
      "RangeIndex: 1230693 entries, 0 to 1230692\n",
      "Data columns (total 13 columns):\n",
      " #   Column       Non-Null Count    Dtype  \n",
      "---  ------       --------------    -----  \n",
      " 0   Time_stamp   1230693 non-null  object \n",
      " 1   boxName      1230693 non-null  object \n",
      " 2   PM 2.5       1230693 non-null  float64\n",
      " 3   temp         1230693 non-null  float64\n",
      " 4   pressure     1230693 non-null  int64  \n",
      " 5   humidity     1230693 non-null  int64  \n",
      " 6   wind_speed   1230693 non-null  float64\n",
      " 7   Time of Day  1230693 non-null  object \n",
      " 8   Peak/NoPeak  1230693 non-null  object \n",
      " 9   Day          1230693 non-null  object \n",
      " 10  Week Day     1230693 non-null  object \n",
      " 11  Weather      1230693 non-null  object \n",
      " 12  label        1230693 non-null  object \n",
      "dtypes: float64(3), int64(2), object(8)\n",
      "memory usage: 122.1+ MB\n"
     ]
    }
   ],
   "source": [
    "#Print more information about dataset.\n",
    "df.info()"
   ]
  },
  {
   "cell_type": "code",
   "execution_count": 6,
   "id": "27cd17d0",
   "metadata": {},
   "outputs": [
    {
     "data": {
      "text/plain": [
       "0"
      ]
     },
     "execution_count": 6,
     "metadata": {},
     "output_type": "execute_result"
    }
   ],
   "source": [
    "#Check duplicate values in that dataset.\n",
    "df.duplicated().sum()"
   ]
  },
  {
   "cell_type": "markdown",
   "id": "5c39c662",
   "metadata": {},
   "source": [
    "This dataset doesn't contain duplicate values."
   ]
  },
  {
   "cell_type": "code",
   "execution_count": 7,
   "id": "db120901",
   "metadata": {},
   "outputs": [
    {
     "data": {
      "text/plain": [
       "Time_stamp     0\n",
       "boxName        0\n",
       "PM 2.5         0\n",
       "temp           0\n",
       "pressure       0\n",
       "humidity       0\n",
       "wind_speed     0\n",
       "Time of Day    0\n",
       "Peak/NoPeak    0\n",
       "Day            0\n",
       "Week Day       0\n",
       "Weather        0\n",
       "label          0\n",
       "dtype: int64"
      ]
     },
     "execution_count": 7,
     "metadata": {},
     "output_type": "execute_result"
    }
   ],
   "source": [
    "#Check null values in each column.\n",
    "df.isnull().sum()"
   ]
  },
  {
   "cell_type": "markdown",
   "id": "2e57c4c0",
   "metadata": {},
   "source": [
    "This dataset doesn't contain null values."
   ]
  },
  {
   "cell_type": "code",
   "execution_count": 8,
   "id": "36ccb9c4",
   "metadata": {},
   "outputs": [
    {
     "data": {
      "text/html": [
       "<div>\n",
       "<style scoped>\n",
       "    .dataframe tbody tr th:only-of-type {\n",
       "        vertical-align: middle;\n",
       "    }\n",
       "\n",
       "    .dataframe tbody tr th {\n",
       "        vertical-align: top;\n",
       "    }\n",
       "\n",
       "    .dataframe thead th {\n",
       "        text-align: right;\n",
       "    }\n",
       "</style>\n",
       "<table border=\"1\" class=\"dataframe\">\n",
       "  <thead>\n",
       "    <tr style=\"text-align: right;\">\n",
       "      <th></th>\n",
       "      <th>PM 2.5</th>\n",
       "      <th>temp</th>\n",
       "      <th>pressure</th>\n",
       "      <th>humidity</th>\n",
       "      <th>wind_speed</th>\n",
       "    </tr>\n",
       "  </thead>\n",
       "  <tbody>\n",
       "    <tr>\n",
       "      <th>count</th>\n",
       "      <td>1.230693e+06</td>\n",
       "      <td>1.230693e+06</td>\n",
       "      <td>1.230693e+06</td>\n",
       "      <td>1.230693e+06</td>\n",
       "      <td>1.230693e+06</td>\n",
       "    </tr>\n",
       "    <tr>\n",
       "      <th>mean</th>\n",
       "      <td>8.343975e+00</td>\n",
       "      <td>9.813300e+00</td>\n",
       "      <td>1.015272e+03</td>\n",
       "      <td>7.533406e+01</td>\n",
       "      <td>3.781297e+00</td>\n",
       "    </tr>\n",
       "    <tr>\n",
       "      <th>std</th>\n",
       "      <td>1.244952e+01</td>\n",
       "      <td>7.726966e+00</td>\n",
       "      <td>1.068135e+01</td>\n",
       "      <td>1.876159e+01</td>\n",
       "      <td>2.313942e+00</td>\n",
       "    </tr>\n",
       "    <tr>\n",
       "      <th>min</th>\n",
       "      <td>0.000000e+00</td>\n",
       "      <td>-8.910000e+00</td>\n",
       "      <td>9.760000e+02</td>\n",
       "      <td>1.400000e+01</td>\n",
       "      <td>3.100000e-01</td>\n",
       "    </tr>\n",
       "    <tr>\n",
       "      <th>25%</th>\n",
       "      <td>2.470000e+00</td>\n",
       "      <td>4.140000e+00</td>\n",
       "      <td>1.009000e+03</td>\n",
       "      <td>6.500000e+01</td>\n",
       "      <td>2.100000e+00</td>\n",
       "    </tr>\n",
       "    <tr>\n",
       "      <th>50%</th>\n",
       "      <td>5.000000e+00</td>\n",
       "      <td>8.200000e+00</td>\n",
       "      <td>1.015000e+03</td>\n",
       "      <td>8.000000e+01</td>\n",
       "      <td>3.600000e+00</td>\n",
       "    </tr>\n",
       "    <tr>\n",
       "      <th>75%</th>\n",
       "      <td>1.090000e+01</td>\n",
       "      <td>1.469000e+01</td>\n",
       "      <td>1.022000e+03</td>\n",
       "      <td>9.200000e+01</td>\n",
       "      <td>5.100000e+00</td>\n",
       "    </tr>\n",
       "    <tr>\n",
       "      <th>max</th>\n",
       "      <td>9.999000e+02</td>\n",
       "      <td>3.928000e+01</td>\n",
       "      <td>1.046000e+03</td>\n",
       "      <td>1.000000e+02</td>\n",
       "      <td>1.750000e+01</td>\n",
       "    </tr>\n",
       "  </tbody>\n",
       "</table>\n",
       "</div>"
      ],
      "text/plain": [
       "             PM 2.5          temp      pressure      humidity    wind_speed\n",
       "count  1.230693e+06  1.230693e+06  1.230693e+06  1.230693e+06  1.230693e+06\n",
       "mean   8.343975e+00  9.813300e+00  1.015272e+03  7.533406e+01  3.781297e+00\n",
       "std    1.244952e+01  7.726966e+00  1.068135e+01  1.876159e+01  2.313942e+00\n",
       "min    0.000000e+00 -8.910000e+00  9.760000e+02  1.400000e+01  3.100000e-01\n",
       "25%    2.470000e+00  4.140000e+00  1.009000e+03  6.500000e+01  2.100000e+00\n",
       "50%    5.000000e+00  8.200000e+00  1.015000e+03  8.000000e+01  3.600000e+00\n",
       "75%    1.090000e+01  1.469000e+01  1.022000e+03  9.200000e+01  5.100000e+00\n",
       "max    9.999000e+02  3.928000e+01  1.046000e+03  1.000000e+02  1.750000e+01"
      ]
     },
     "execution_count": 8,
     "metadata": {},
     "output_type": "execute_result"
    }
   ],
   "source": [
    "#Get description about dataset.\n",
    "df.describe()"
   ]
  },
  {
   "cell_type": "markdown",
   "id": "91b1bede",
   "metadata": {},
   "source": [
    "## Categorical features representing using bargraph."
   ]
  },
  {
   "cell_type": "markdown",
   "id": "66178f66",
   "metadata": {},
   "source": [
    "Time_stamp\n",
    "\n",
    "boxName\n",
    "\n",
    "Time of Day  \n",
    "\n",
    "Peak/NoPeak  \n",
    "\n",
    "Day\n",
    "\n",
    "Week Day\n",
    "\n",
    "Weather\n",
    "\n",
    "Weather Description\n",
    "\n",
    "label      "
   ]
  },
  {
   "cell_type": "code",
   "execution_count": 9,
   "id": "9ab5e65f",
   "metadata": {},
   "outputs": [
    {
     "name": "stdout",
     "output_type": "stream",
     "text": [
      "2020-01-10 13:56:06    6\n",
      "2020-02-22 04:40:12    5\n",
      "2019-12-23 14:12:54    4\n",
      "2019-12-22 05:33:50    4\n",
      "2019-12-21 02:27:01    4\n",
      "                      ..\n",
      "2019-01-12 16:42:41    1\n",
      "2019-01-12 16:45:11    1\n",
      "2019-01-12 16:47:40    1\n",
      "2019-01-12 16:52:37    1\n",
      "2020-02-28 18:29:47    1\n",
      "Name: Time_stamp, Length: 1188195, dtype: int64\n"
     ]
    }
   ],
   "source": [
    "print(df['Time_stamp'].value_counts())"
   ]
  },
  {
   "cell_type": "code",
   "execution_count": 10,
   "id": "8161f466",
   "metadata": {},
   "outputs": [],
   "source": [
    "#drop the Time_stamp column.\n",
    "df.drop(columns = 'Time_stamp', axis = 1, inplace = True)"
   ]
  },
  {
   "cell_type": "code",
   "execution_count": 11,
   "id": "c14b94e1",
   "metadata": {},
   "outputs": [
    {
     "name": "stdout",
     "output_type": "stream",
     "text": [
      "Frankfurt_Riederwald        236062\n",
      "Rothschildallee             231376\n",
      "Bernem                      162173\n",
      "nordsand                    153296\n",
      "FeinstaubFFM                150225\n",
      "MousonSense                  97472\n",
      "Ginnheim_Dust_Light_Temp     55480\n",
      "s4                           44324\n",
      "ioki                         35798\n",
      "Luftdaten.info [6703181]     30120\n",
      "FFM_Westend_Sued             17732\n",
      "iGude                        10951\n",
      "Alt Bornheim Feinstaub        5295\n",
      "Medienzentrum Frankfurt        389\n",
      "Name: boxName, dtype: int64\n"
     ]
    },
    {
     "data": {
      "image/png": "[encoded data removed]",
      "text/plain": [
       "<Figure size 3500x1500 with 1 Axes>"
      ]
     },
     "metadata": {},
     "output_type": "display_data"
    }
   ],
   "source": [
    "print(df['boxName'].value_counts())\n",
    "\n",
    "sns.set()\n",
    "plt.figure(figsize = (35, 15))\n",
    "sns.countplot(x = 'boxName', data = df)\n",
    "plt.show()"
   ]
  },
  {
   "cell_type": "code",
   "execution_count": 12,
   "id": "6f60ae3c",
   "metadata": {},
   "outputs": [],
   "source": [
    "#Drop boxName column\n",
    "df.drop(columns = 'boxName', axis = 1, inplace = True)"
   ]
  },
  {
   "cell_type": "code",
   "execution_count": 13,
   "id": "3aaa3b3d",
   "metadata": {},
   "outputs": [
    {
     "name": "stdout",
     "output_type": "stream",
     "text": [
      "Night_Hours        463061\n",
      "Morning_Hours      307199\n",
      "Afternoon_Hours    255181\n",
      "Evening_Hours      205252\n",
      "Name: Time of Day, dtype: int64\n"
     ]
    },
    {
     "data": {
      "image/png": "[encoded data removed]",
      "text/plain": [
       "<Figure size 3000x2000 with 1 Axes>"
      ]
     },
     "metadata": {},
     "output_type": "display_data"
    }
   ],
   "source": [
    "print(df['Time of Day'].value_counts())\n",
    "\n",
    "sns.set()\n",
    "plt.figure(figsize = (30, 20))\n",
    "sns.countplot(x = 'Time of Day', data =df)\n",
    "plt.show()"
   ]
  },
  {
   "cell_type": "code",
   "execution_count": 14,
   "id": "da61221d",
   "metadata": {},
   "outputs": [
    {
     "name": "stdout",
     "output_type": "stream",
     "text": [
      "No_Peak    768785\n",
      "Peak       461908\n",
      "Name: Peak/NoPeak, dtype: int64\n"
     ]
    },
    {
     "data": {
      "image/png": "[encoded data removed]",
      "text/plain": [
       "<Figure size 2500x2000 with 1 Axes>"
      ]
     },
     "metadata": {},
     "output_type": "display_data"
    }
   ],
   "source": [
    "print(df['Peak/NoPeak'].value_counts())\n",
    "\n",
    "sns.set()\n",
    "plt.figure(figsize = (25, 20))\n",
    "sns.countplot(x = 'Peak/NoPeak', data =df)\n",
    "plt.show()"
   ]
  },
  {
   "cell_type": "code",
   "execution_count": 15,
   "id": "d4aff5f5",
   "metadata": {},
   "outputs": [
    {
     "name": "stdout",
     "output_type": "stream",
     "text": [
      "Thursday     177198\n",
      "Friday       176575\n",
      "Tuesday      176500\n",
      "Monday       175581\n",
      "Wednesday    175507\n",
      "Sunday       175495\n",
      "Saturday     173837\n",
      "Name: Day, dtype: int64\n"
     ]
    },
    {
     "data": {
      "image/png": "[encoded data removed]",
      "text/plain": [
       "<Figure size 2500x2000 with 1 Axes>"
      ]
     },
     "metadata": {},
     "output_type": "display_data"
    }
   ],
   "source": [
    "print(df['Day'].value_counts())\n",
    "\n",
    "sns.set()\n",
    "plt.figure(figsize = (25, 20))\n",
    "sns.countplot(x = 'Day', data =df)\n",
    "plt.show()"
   ]
  },
  {
   "cell_type": "code",
   "execution_count": 16,
   "id": "bf02afbd",
   "metadata": {},
   "outputs": [
    {
     "name": "stdout",
     "output_type": "stream",
     "text": [
      "Workday    881361\n",
      "Weekend    349332\n",
      "Name: Week Day, dtype: int64\n"
     ]
    },
    {
     "data": {
      "image/png": "[encoded data removed]",
      "text/plain": [
       "<Figure size 2500x2000 with 1 Axes>"
      ]
     },
     "metadata": {},
     "output_type": "display_data"
    }
   ],
   "source": [
    "print(df['Week Day'].value_counts())\n",
    "\n",
    "sns.set()\n",
    "plt.figure(figsize = (25, 20))\n",
    "sns.countplot(x = 'Week Day', data =df)\n",
    "plt.show()"
   ]
  },
  {
   "cell_type": "code",
   "execution_count": 17,
   "id": "58975ad0",
   "metadata": {},
   "outputs": [
    {
     "name": "stdout",
     "output_type": "stream",
     "text": [
      "Clouds                   768457\n",
      "Rain                     216629\n",
      "Clear                    149080\n",
      "Fog                       27067\n",
      "Mist                      22278\n",
      "Drizzle                    8347\n",
      "Snow                       8174\n",
      "Drizzle + Mist             7818\n",
      "Drizzle + Rain             5374\n",
      "Mist + Fog                 4364\n",
      "Drizzle + Rain + Mist      2439\n",
      "Snow + Mist                2329\n",
      "Rain + Mist                2151\n",
      "Rain + Snow                2146\n",
      "Thunderstorm + Rain        1744\n",
      "Thunderstorm                998\n",
      "Rain + Fog                  352\n",
      "Haze                        317\n",
      "Snow + Mist + Fog           208\n",
      "Snow + Fog                  138\n",
      "Drizzle + Snow + Mist       120\n",
      "Thunderstorm + Squall       103\n",
      "Squall                       60\n",
      "Name: Weather, dtype: int64\n"
     ]
    },
    {
     "data": {
      "image/png": "[encoded data removed]",
      "text/plain": [
       "<Figure size 5000x1500 with 1 Axes>"
      ]
     },
     "metadata": {},
     "output_type": "display_data"
    }
   ],
   "source": [
    "print(df['Weather'].value_counts())\n",
    "\n",
    "sns.set()\n",
    "plt.figure(figsize = (50, 15))\n",
    "sns.countplot(x = 'Weather', data =df)\n",
    "plt.show()"
   ]
  },
  {
   "cell_type": "code",
   "execution_count": 18,
   "id": "4e1a620b",
   "metadata": {},
   "outputs": [
    {
     "name": "stdout",
     "output_type": "stream",
     "text": [
      "normal      1169326\n",
      "abnormal      61367\n",
      "Name: label, dtype: int64\n"
     ]
    },
    {
     "data": {
      "image/png": "[encoded data removed]",
      "text/plain": [
       "<Figure size 2000x1500 with 1 Axes>"
      ]
     },
     "metadata": {},
     "output_type": "display_data"
    }
   ],
   "source": [
    "print(df['label'].value_counts())\n",
    "\n",
    "sns.set()\n",
    "plt.figure(figsize = (20, 15))\n",
    "sns.countplot(x = 'label', data =df)\n",
    "plt.show()"
   ]
  },
  {
   "cell_type": "markdown",
   "id": "77fb6083",
   "metadata": {},
   "source": [
    "## Numerical features representing "
   ]
  },
  {
   "cell_type": "code",
   "execution_count": 19,
   "id": "104da88c",
   "metadata": {},
   "outputs": [
    {
     "name": "stdout",
     "output_type": "stream",
     "text": [
      "PM 2.5 column\n"
     ]
    },
    {
     "name": "stderr",
     "output_type": "stream",
     "text": [
      "C:\\Users\\pinil\\anaconda3\\lib\\site-packages\\seaborn\\_decorators.py:36: FutureWarning: Pass the following variable as a keyword arg: x. From version 0.12, the only valid positional argument will be `data`, and passing other arguments without an explicit keyword will result in an error or misinterpretation.\n",
      "  warnings.warn(\n"
     ]
    },
    {
     "data": {
      "image/png": "[encoded data removed]",
      "text/plain": [
       "<Figure size 2000x300 with 1 Axes>"
      ]
     },
     "metadata": {},
     "output_type": "display_data"
    },
    {
     "name": "stdout",
     "output_type": "stream",
     "text": [
      "--------------------------------------------------------------------------------------------------------------\n",
      "temp column\n"
     ]
    },
    {
     "name": "stderr",
     "output_type": "stream",
     "text": [
      "C:\\Users\\pinil\\anaconda3\\lib\\site-packages\\seaborn\\_decorators.py:36: FutureWarning: Pass the following variable as a keyword arg: x. From version 0.12, the only valid positional argument will be `data`, and passing other arguments without an explicit keyword will result in an error or misinterpretation.\n",
      "  warnings.warn(\n"
     ]
    },
    {
     "data": {
      "image/png": "[encoded data removed]",
      "text/plain": [
       "<Figure size 2000x300 with 1 Axes>"
      ]
     },
     "metadata": {},
     "output_type": "display_data"
    },
    {
     "name": "stdout",
     "output_type": "stream",
     "text": [
      "--------------------------------------------------------------------------------------------------------------\n",
      "pressure column\n"
     ]
    },
    {
     "name": "stderr",
     "output_type": "stream",
     "text": [
      "C:\\Users\\pinil\\anaconda3\\lib\\site-packages\\seaborn\\_decorators.py:36: FutureWarning: Pass the following variable as a keyword arg: x. From version 0.12, the only valid positional argument will be `data`, and passing other arguments without an explicit keyword will result in an error or misinterpretation.\n",
      "  warnings.warn(\n"
     ]
    },
    {
     "data": {
      "image/png": "[encoded data removed]",
      "text/plain": [
       "<Figure size 2000x300 with 1 Axes>"
      ]
     },
     "metadata": {},
     "output_type": "display_data"
    },
    {
     "name": "stdout",
     "output_type": "stream",
     "text": [
      "--------------------------------------------------------------------------------------------------------------\n",
      "humidity column\n"
     ]
    },
    {
     "name": "stderr",
     "output_type": "stream",
     "text": [
      "C:\\Users\\pinil\\anaconda3\\lib\\site-packages\\seaborn\\_decorators.py:36: FutureWarning: Pass the following variable as a keyword arg: x. From version 0.12, the only valid positional argument will be `data`, and passing other arguments without an explicit keyword will result in an error or misinterpretation.\n",
      "  warnings.warn(\n"
     ]
    },
    {
     "data": {
      "image/png": "[encoded data removed]",
      "text/plain": [
       "<Figure size 2000x300 with 1 Axes>"
      ]
     },
     "metadata": {},
     "output_type": "display_data"
    },
    {
     "name": "stdout",
     "output_type": "stream",
     "text": [
      "--------------------------------------------------------------------------------------------------------------\n"
     ]
    }
   ],
   "source": [
    "k = ('PM 2.5', 'temp', 'pressure', 'humidity')\n",
    "\n",
    "for i in k:\n",
    "    print(i, \"column\")\n",
    "    sns.set()\n",
    "    plt.figure(figsize = (20, 3))\n",
    "    sns.boxplot(df[i])\n",
    "    plt.show()\n",
    "    print(\"--------------------------------------------------------------------------------------------------------------\")"
   ]
  },
  {
   "cell_type": "code",
   "execution_count": 20,
   "id": "1b0c2430",
   "metadata": {},
   "outputs": [
    {
     "data": {
      "text/html": [
       "<div>\n",
       "<style scoped>\n",
       "    .dataframe tbody tr th:only-of-type {\n",
       "        vertical-align: middle;\n",
       "    }\n",
       "\n",
       "    .dataframe tbody tr th {\n",
       "        vertical-align: top;\n",
       "    }\n",
       "\n",
       "    .dataframe thead th {\n",
       "        text-align: right;\n",
       "    }\n",
       "</style>\n",
       "<table border=\"1\" class=\"dataframe\">\n",
       "  <thead>\n",
       "    <tr style=\"text-align: right;\">\n",
       "      <th></th>\n",
       "      <th>PM 2.5</th>\n",
       "      <th>temp</th>\n",
       "      <th>pressure</th>\n",
       "      <th>humidity</th>\n",
       "      <th>wind_speed</th>\n",
       "      <th>Time of Day</th>\n",
       "      <th>Peak/NoPeak</th>\n",
       "      <th>Day</th>\n",
       "      <th>Week Day</th>\n",
       "      <th>Weather</th>\n",
       "      <th>label</th>\n",
       "    </tr>\n",
       "  </thead>\n",
       "  <tbody>\n",
       "    <tr>\n",
       "      <th>0</th>\n",
       "      <td>18.20</td>\n",
       "      <td>7.71</td>\n",
       "      <td>1032</td>\n",
       "      <td>100</td>\n",
       "      <td>3.09</td>\n",
       "      <td>Evening_Hours</td>\n",
       "      <td>Peak</td>\n",
       "      <td>Monday</td>\n",
       "      <td>Workday</td>\n",
       "      <td>Clouds</td>\n",
       "      <td>normal</td>\n",
       "    </tr>\n",
       "    <tr>\n",
       "      <th>1</th>\n",
       "      <td>19.27</td>\n",
       "      <td>7.71</td>\n",
       "      <td>1032</td>\n",
       "      <td>100</td>\n",
       "      <td>3.09</td>\n",
       "      <td>Evening_Hours</td>\n",
       "      <td>Peak</td>\n",
       "      <td>Monday</td>\n",
       "      <td>Workday</td>\n",
       "      <td>Clouds</td>\n",
       "      <td>normal</td>\n",
       "    </tr>\n",
       "    <tr>\n",
       "      <th>2</th>\n",
       "      <td>18.57</td>\n",
       "      <td>7.71</td>\n",
       "      <td>1032</td>\n",
       "      <td>100</td>\n",
       "      <td>3.09</td>\n",
       "      <td>Evening_Hours</td>\n",
       "      <td>Peak</td>\n",
       "      <td>Monday</td>\n",
       "      <td>Workday</td>\n",
       "      <td>Clouds</td>\n",
       "      <td>normal</td>\n",
       "    </tr>\n",
       "    <tr>\n",
       "      <th>3</th>\n",
       "      <td>17.85</td>\n",
       "      <td>7.71</td>\n",
       "      <td>1032</td>\n",
       "      <td>100</td>\n",
       "      <td>3.09</td>\n",
       "      <td>Evening_Hours</td>\n",
       "      <td>Peak</td>\n",
       "      <td>Monday</td>\n",
       "      <td>Workday</td>\n",
       "      <td>Clouds</td>\n",
       "      <td>normal</td>\n",
       "    </tr>\n",
       "    <tr>\n",
       "      <th>4</th>\n",
       "      <td>25.95</td>\n",
       "      <td>7.71</td>\n",
       "      <td>1032</td>\n",
       "      <td>100</td>\n",
       "      <td>3.09</td>\n",
       "      <td>Evening_Hours</td>\n",
       "      <td>Peak</td>\n",
       "      <td>Monday</td>\n",
       "      <td>Workday</td>\n",
       "      <td>Clouds</td>\n",
       "      <td>normal</td>\n",
       "    </tr>\n",
       "  </tbody>\n",
       "</table>\n",
       "</div>"
      ],
      "text/plain": [
       "   PM 2.5  temp  pressure  humidity  wind_speed    Time of Day Peak/NoPeak  \\\n",
       "0   18.20  7.71      1032       100        3.09  Evening_Hours        Peak   \n",
       "1   19.27  7.71      1032       100        3.09  Evening_Hours        Peak   \n",
       "2   18.57  7.71      1032       100        3.09  Evening_Hours        Peak   \n",
       "3   17.85  7.71      1032       100        3.09  Evening_Hours        Peak   \n",
       "4   25.95  7.71      1032       100        3.09  Evening_Hours        Peak   \n",
       "\n",
       "      Day Week Day Weather   label  \n",
       "0  Monday  Workday  Clouds  normal  \n",
       "1  Monday  Workday  Clouds  normal  \n",
       "2  Monday  Workday  Clouds  normal  \n",
       "3  Monday  Workday  Clouds  normal  \n",
       "4  Monday  Workday  Clouds  normal  "
      ]
     },
     "execution_count": 20,
     "metadata": {},
     "output_type": "execute_result"
    }
   ],
   "source": [
    "#print first 5 rows of dataset\n",
    "df.head()"
   ]
  },
  {
   "cell_type": "code",
   "execution_count": 21,
   "id": "551f4b39",
   "metadata": {},
   "outputs": [
    {
     "data": {
      "text/plain": [
       "(1230693, 11)"
      ]
     },
     "execution_count": 21,
     "metadata": {},
     "output_type": "execute_result"
    }
   ],
   "source": [
    "#Print number of rows and columns of dataset.\n",
    "df.shape"
   ]
  },
  {
   "cell_type": "markdown",
   "id": "e8a82f5f",
   "metadata": {},
   "source": [
    "Now dataset contain 1230693 rows and 11 columns"
   ]
  },
  {
   "cell_type": "code",
   "execution_count": 22,
   "id": "32e64ef7",
   "metadata": {},
   "outputs": [],
   "source": [
    "#Encode cato\n",
    "le = LabelEncoder()"
   ]
  },
  {
   "cell_type": "code",
   "execution_count": 23,
   "id": "a61a12aa",
   "metadata": {},
   "outputs": [
    {
     "name": "stderr",
     "output_type": "stream",
     "text": [
      "C:\\Users\\pinil\\anaconda3\\lib\\site-packages\\sklearn\\preprocessing\\_label.py:115: DataConversionWarning: A column-vector y was passed when a 1d array was expected. Please change the shape of y to (n_samples, ), for example using ravel().\n",
      "  y = column_or_1d(y, warn=True)\n"
     ]
    },
    {
     "name": "stdout",
     "output_type": "stream",
     "text": [
      "['Afternoon_Hours' 'Evening_Hours' 'Morning_Hours' 'Night_Hours']\n",
      "Afternoon_Hours -----> 0\n",
      "Evening_Hours -----> 1\n",
      "Morning_Hours -----> 2\n",
      "Night_Hours -----> 3\n"
     ]
    }
   ],
   "source": [
    "df['Time of Day1'] = le.fit_transform(df[['Time of Day']])\n",
    "\n",
    "k = np.sort(df['Time of Day'].unique())\n",
    "print(k)\n",
    "\n",
    "j = 0;\n",
    "\n",
    "for i in k:\n",
    "    print(i, \"----->\", j)\n",
    "    j = j + 1"
   ]
  },
  {
   "cell_type": "code",
   "execution_count": 24,
   "id": "4bbd3f71",
   "metadata": {},
   "outputs": [
    {
     "name": "stderr",
     "output_type": "stream",
     "text": [
      "C:\\Users\\pinil\\anaconda3\\lib\\site-packages\\sklearn\\preprocessing\\_label.py:115: DataConversionWarning: A column-vector y was passed when a 1d array was expected. Please change the shape of y to (n_samples, ), for example using ravel().\n",
      "  y = column_or_1d(y, warn=True)\n"
     ]
    },
    {
     "name": "stdout",
     "output_type": "stream",
     "text": [
      "['No_Peak' 'Peak']\n",
      "No_Peak -----> 0\n",
      "Peak -----> 1\n"
     ]
    }
   ],
   "source": [
    "df['Peak/NoPeak1'] = le.fit_transform(df[['Peak/NoPeak']])\n",
    "\n",
    "k = np.sort(df['Peak/NoPeak'].unique())\n",
    "print(k)\n",
    "\n",
    "j = 0;\n",
    "\n",
    "for i in k:\n",
    "    print(i, \"----->\", j)\n",
    "    j = j + 1"
   ]
  },
  {
   "cell_type": "code",
   "execution_count": 25,
   "id": "e5069d07",
   "metadata": {},
   "outputs": [
    {
     "name": "stderr",
     "output_type": "stream",
     "text": [
      "C:\\Users\\pinil\\anaconda3\\lib\\site-packages\\sklearn\\preprocessing\\_label.py:115: DataConversionWarning: A column-vector y was passed when a 1d array was expected. Please change the shape of y to (n_samples, ), for example using ravel().\n",
      "  y = column_or_1d(y, warn=True)\n"
     ]
    },
    {
     "name": "stdout",
     "output_type": "stream",
     "text": [
      "['Friday' 'Monday' 'Saturday' 'Sunday' 'Thursday' 'Tuesday' 'Wednesday']\n",
      "Friday -----> 0\n",
      "Monday -----> 1\n",
      "Saturday -----> 2\n",
      "Sunday -----> 3\n",
      "Thursday -----> 4\n",
      "Tuesday -----> 5\n",
      "Wednesday -----> 6\n"
     ]
    }
   ],
   "source": [
    "df['Day1'] = le.fit_transform(df[['Day']])\n",
    "\n",
    "k = np.sort(df['Day'].unique())\n",
    "print(k)\n",
    "\n",
    "j = 0;\n",
    "\n",
    "for i in k:\n",
    "    print(i, \"----->\", j)\n",
    "    j = j + 1"
   ]
  },
  {
   "cell_type": "code",
   "execution_count": 26,
   "id": "ae86b5ba",
   "metadata": {},
   "outputs": [
    {
     "name": "stderr",
     "output_type": "stream",
     "text": [
      "C:\\Users\\pinil\\anaconda3\\lib\\site-packages\\sklearn\\preprocessing\\_label.py:115: DataConversionWarning: A column-vector y was passed when a 1d array was expected. Please change the shape of y to (n_samples, ), for example using ravel().\n",
      "  y = column_or_1d(y, warn=True)\n"
     ]
    },
    {
     "name": "stdout",
     "output_type": "stream",
     "text": [
      "['Weekend' 'Workday']\n",
      "Weekend -----> 0\n",
      "Workday -----> 1\n"
     ]
    }
   ],
   "source": [
    "df['Week Day1'] = le.fit_transform(df[['Week Day']])\n",
    "\n",
    "k = np.sort(df['Week Day'].unique())\n",
    "print(k)\n",
    "\n",
    "j = 0;\n",
    "\n",
    "for i in k:\n",
    "    print(i, \"----->\", j)\n",
    "    j = j + 1"
   ]
  },
  {
   "cell_type": "code",
   "execution_count": 27,
   "id": "a8b9d2e4",
   "metadata": {},
   "outputs": [
    {
     "name": "stderr",
     "output_type": "stream",
     "text": [
      "C:\\Users\\pinil\\anaconda3\\lib\\site-packages\\sklearn\\preprocessing\\_label.py:115: DataConversionWarning: A column-vector y was passed when a 1d array was expected. Please change the shape of y to (n_samples, ), for example using ravel().\n",
      "  y = column_or_1d(y, warn=True)\n"
     ]
    },
    {
     "name": "stdout",
     "output_type": "stream",
     "text": [
      "['abnormal' 'normal']\n",
      "abnormal -----> 0\n",
      "normal -----> 1\n"
     ]
    }
   ],
   "source": [
    "df['label1'] = le.fit_transform(df[['label']])\n",
    "\n",
    "k = np.sort(df['label'].unique())\n",
    "print(k)\n",
    "\n",
    "j = 0;\n",
    "\n",
    "for i in k:\n",
    "    print(i, \"----->\", j)\n",
    "    j = j + 1"
   ]
  },
  {
   "cell_type": "code",
   "execution_count": 28,
   "id": "1d427128",
   "metadata": {},
   "outputs": [
    {
     "data": {
      "text/html": [
       "<div>\n",
       "<style scoped>\n",
       "    .dataframe tbody tr th:only-of-type {\n",
       "        vertical-align: middle;\n",
       "    }\n",
       "\n",
       "    .dataframe tbody tr th {\n",
       "        vertical-align: top;\n",
       "    }\n",
       "\n",
       "    .dataframe thead th {\n",
       "        text-align: right;\n",
       "    }\n",
       "</style>\n",
       "<table border=\"1\" class=\"dataframe\">\n",
       "  <thead>\n",
       "    <tr style=\"text-align: right;\">\n",
       "      <th></th>\n",
       "      <th>PM 2.5</th>\n",
       "      <th>temp</th>\n",
       "      <th>pressure</th>\n",
       "      <th>humidity</th>\n",
       "      <th>wind_speed</th>\n",
       "      <th>Time of Day</th>\n",
       "      <th>Peak/NoPeak</th>\n",
       "      <th>Day</th>\n",
       "      <th>Week Day</th>\n",
       "      <th>Weather</th>\n",
       "      <th>label</th>\n",
       "    </tr>\n",
       "  </thead>\n",
       "  <tbody>\n",
       "    <tr>\n",
       "      <th>0</th>\n",
       "      <td>18.20</td>\n",
       "      <td>7.71</td>\n",
       "      <td>1032</td>\n",
       "      <td>100</td>\n",
       "      <td>3.09</td>\n",
       "      <td>1</td>\n",
       "      <td>1</td>\n",
       "      <td>1</td>\n",
       "      <td>1</td>\n",
       "      <td>Clouds</td>\n",
       "      <td>1</td>\n",
       "    </tr>\n",
       "    <tr>\n",
       "      <th>1</th>\n",
       "      <td>19.27</td>\n",
       "      <td>7.71</td>\n",
       "      <td>1032</td>\n",
       "      <td>100</td>\n",
       "      <td>3.09</td>\n",
       "      <td>1</td>\n",
       "      <td>1</td>\n",
       "      <td>1</td>\n",
       "      <td>1</td>\n",
       "      <td>Clouds</td>\n",
       "      <td>1</td>\n",
       "    </tr>\n",
       "    <tr>\n",
       "      <th>2</th>\n",
       "      <td>18.57</td>\n",
       "      <td>7.71</td>\n",
       "      <td>1032</td>\n",
       "      <td>100</td>\n",
       "      <td>3.09</td>\n",
       "      <td>1</td>\n",
       "      <td>1</td>\n",
       "      <td>1</td>\n",
       "      <td>1</td>\n",
       "      <td>Clouds</td>\n",
       "      <td>1</td>\n",
       "    </tr>\n",
       "    <tr>\n",
       "      <th>3</th>\n",
       "      <td>17.85</td>\n",
       "      <td>7.71</td>\n",
       "      <td>1032</td>\n",
       "      <td>100</td>\n",
       "      <td>3.09</td>\n",
       "      <td>1</td>\n",
       "      <td>1</td>\n",
       "      <td>1</td>\n",
       "      <td>1</td>\n",
       "      <td>Clouds</td>\n",
       "      <td>1</td>\n",
       "    </tr>\n",
       "    <tr>\n",
       "      <th>4</th>\n",
       "      <td>25.95</td>\n",
       "      <td>7.71</td>\n",
       "      <td>1032</td>\n",
       "      <td>100</td>\n",
       "      <td>3.09</td>\n",
       "      <td>1</td>\n",
       "      <td>1</td>\n",
       "      <td>1</td>\n",
       "      <td>1</td>\n",
       "      <td>Clouds</td>\n",
       "      <td>1</td>\n",
       "    </tr>\n",
       "  </tbody>\n",
       "</table>\n",
       "</div>"
      ],
      "text/plain": [
       "   PM 2.5  temp  pressure  humidity  wind_speed  Time of Day  Peak/NoPeak  \\\n",
       "0   18.20  7.71      1032       100        3.09            1            1   \n",
       "1   19.27  7.71      1032       100        3.09            1            1   \n",
       "2   18.57  7.71      1032       100        3.09            1            1   \n",
       "3   17.85  7.71      1032       100        3.09            1            1   \n",
       "4   25.95  7.71      1032       100        3.09            1            1   \n",
       "\n",
       "   Day  Week Day Weather  label  \n",
       "0    1         1  Clouds      1  \n",
       "1    1         1  Clouds      1  \n",
       "2    1         1  Clouds      1  \n",
       "3    1         1  Clouds      1  \n",
       "4    1         1  Clouds      1  "
      ]
     },
     "execution_count": 28,
     "metadata": {},
     "output_type": "execute_result"
    }
   ],
   "source": [
    "df['Time of Day'] = df['Time of Day1']\n",
    "df['Peak/NoPeak'] = df['Peak/NoPeak1'] \n",
    "df['Day'] = df['Day1']\n",
    "df['Week Day'] = df['Week Day1']\n",
    "df['label'] = df['label1']\n",
    "\n",
    "df.drop(columns = ['Time of Day1', 'Peak/NoPeak1', 'Day1', 'Week Day1', 'label1'], axis = 1, inplace = True)\n",
    "\n",
    "df.head(5)"
   ]
  },
  {
   "cell_type": "code",
   "execution_count": 29,
   "id": "1b3d1dd4",
   "metadata": {},
   "outputs": [
    {
     "data": {
      "text/html": [
       "<div>\n",
       "<style scoped>\n",
       "    .dataframe tbody tr th:only-of-type {\n",
       "        vertical-align: middle;\n",
       "    }\n",
       "\n",
       "    .dataframe tbody tr th {\n",
       "        vertical-align: top;\n",
       "    }\n",
       "\n",
       "    .dataframe thead th {\n",
       "        text-align: right;\n",
       "    }\n",
       "</style>\n",
       "<table border=\"1\" class=\"dataframe\">\n",
       "  <thead>\n",
       "    <tr style=\"text-align: right;\">\n",
       "      <th></th>\n",
       "      <th>0</th>\n",
       "      <th>1</th>\n",
       "      <th>2</th>\n",
       "    </tr>\n",
       "  </thead>\n",
       "  <tbody>\n",
       "    <tr>\n",
       "      <th>0</th>\n",
       "      <td>Clouds</td>\n",
       "      <td>None</td>\n",
       "      <td>None</td>\n",
       "    </tr>\n",
       "    <tr>\n",
       "      <th>1</th>\n",
       "      <td>Clouds</td>\n",
       "      <td>None</td>\n",
       "      <td>None</td>\n",
       "    </tr>\n",
       "    <tr>\n",
       "      <th>2</th>\n",
       "      <td>Clouds</td>\n",
       "      <td>None</td>\n",
       "      <td>None</td>\n",
       "    </tr>\n",
       "    <tr>\n",
       "      <th>3</th>\n",
       "      <td>Clouds</td>\n",
       "      <td>None</td>\n",
       "      <td>None</td>\n",
       "    </tr>\n",
       "    <tr>\n",
       "      <th>4</th>\n",
       "      <td>Clouds</td>\n",
       "      <td>None</td>\n",
       "      <td>None</td>\n",
       "    </tr>\n",
       "    <tr>\n",
       "      <th>...</th>\n",
       "      <td>...</td>\n",
       "      <td>...</td>\n",
       "      <td>...</td>\n",
       "    </tr>\n",
       "    <tr>\n",
       "      <th>1230688</th>\n",
       "      <td>Clear</td>\n",
       "      <td>None</td>\n",
       "      <td>None</td>\n",
       "    </tr>\n",
       "    <tr>\n",
       "      <th>1230689</th>\n",
       "      <td>Clear</td>\n",
       "      <td>None</td>\n",
       "      <td>None</td>\n",
       "    </tr>\n",
       "    <tr>\n",
       "      <th>1230690</th>\n",
       "      <td>Clear</td>\n",
       "      <td>None</td>\n",
       "      <td>None</td>\n",
       "    </tr>\n",
       "    <tr>\n",
       "      <th>1230691</th>\n",
       "      <td>Clear</td>\n",
       "      <td>None</td>\n",
       "      <td>None</td>\n",
       "    </tr>\n",
       "    <tr>\n",
       "      <th>1230692</th>\n",
       "      <td>Clear</td>\n",
       "      <td>None</td>\n",
       "      <td>None</td>\n",
       "    </tr>\n",
       "  </tbody>\n",
       "</table>\n",
       "<p>1230693 rows × 3 columns</p>\n",
       "</div>"
      ],
      "text/plain": [
       "              0     1     2\n",
       "0        Clouds  None  None\n",
       "1        Clouds  None  None\n",
       "2        Clouds  None  None\n",
       "3        Clouds  None  None\n",
       "4        Clouds  None  None\n",
       "...         ...   ...   ...\n",
       "1230688   Clear  None  None\n",
       "1230689   Clear  None  None\n",
       "1230690   Clear  None  None\n",
       "1230691   Clear  None  None\n",
       "1230692   Clear  None  None\n",
       "\n",
       "[1230693 rows x 3 columns]"
      ]
     },
     "execution_count": 29,
     "metadata": {},
     "output_type": "execute_result"
    }
   ],
   "source": [
    "#split Weather column values\n",
    "df['Weather'].str.split('+', expand = True)"
   ]
  },
  {
   "cell_type": "code",
   "execution_count": 30,
   "id": "db93136f",
   "metadata": {},
   "outputs": [
    {
     "name": "stdout",
     "output_type": "stream",
     "text": [
      "------------------------------------------------------------------------------------------------------------------\n",
      "Weater1 column unique values :\n",
      "['Clouds' 'Mist' 'Fog' 'Rain' 'Drizzle' 'Clear' 'Snow' 'Thunderstorm'\n",
      " 'Squall' 'Haze']\n",
      "------------------------------------------------------------------------------------------------------------------\n",
      "Weater2 column unique values :\n",
      "[None 'Rain' 'Mist' 'Snow' 'Fog' 'Squall']\n",
      "------------------------------------------------------------------------------------------------------------------\n",
      "Weater3 column unique values :\n",
      "[None 'Mist' 'Fog']\n",
      "------------------------------------------------------------------------------------------------------------------\n"
     ]
    }
   ],
   "source": [
    "df['Weather1'] = df['Weather'].str.split('+', expand = True)[0].str.strip()\n",
    "df['Weather2'] = df['Weather'].str.split('+', expand = True)[1].str.strip()\n",
    "df['Weather3'] = df['Weather'].str.split('+', expand = True)[2].str.strip()\n",
    "\n",
    "print(\"------------------------------------------------------------------------------------------------------------------\")\n",
    "print(\"Weater1 column unique values :\")\n",
    "print(df['Weather1'].unique())\n",
    "print(\"------------------------------------------------------------------------------------------------------------------\")\n",
    "print(\"Weater2 column unique values :\")\n",
    "print(df['Weather2'].unique())\n",
    "print(\"------------------------------------------------------------------------------------------------------------------\")\n",
    "print(\"Weater3 column unique values :\")\n",
    "print(df['Weather3'].unique())\n",
    "print(\"------------------------------------------------------------------------------------------------------------------\")"
   ]
  },
  {
   "cell_type": "code",
   "execution_count": 31,
   "id": "2a0e7500",
   "metadata": {
    "scrolled": true
   },
   "outputs": [
    {
     "data": {
      "text/html": [
       "<div>\n",
       "<style scoped>\n",
       "    .dataframe tbody tr th:only-of-type {\n",
       "        vertical-align: middle;\n",
       "    }\n",
       "\n",
       "    .dataframe tbody tr th {\n",
       "        vertical-align: top;\n",
       "    }\n",
       "\n",
       "    .dataframe thead th {\n",
       "        text-align: right;\n",
       "    }\n",
       "</style>\n",
       "<table border=\"1\" class=\"dataframe\">\n",
       "  <thead>\n",
       "    <tr style=\"text-align: right;\">\n",
       "      <th></th>\n",
       "      <th>PM 2.5</th>\n",
       "      <th>temp</th>\n",
       "      <th>pressure</th>\n",
       "      <th>humidity</th>\n",
       "      <th>wind_speed</th>\n",
       "      <th>Time of Day</th>\n",
       "      <th>Peak/NoPeak</th>\n",
       "      <th>Day</th>\n",
       "      <th>Week Day</th>\n",
       "      <th>Weather</th>\n",
       "      <th>label</th>\n",
       "      <th>Weather1</th>\n",
       "      <th>Weather2</th>\n",
       "      <th>Weather3</th>\n",
       "    </tr>\n",
       "  </thead>\n",
       "  <tbody>\n",
       "    <tr>\n",
       "      <th>0</th>\n",
       "      <td>18.20</td>\n",
       "      <td>7.71</td>\n",
       "      <td>1032</td>\n",
       "      <td>100</td>\n",
       "      <td>3.09</td>\n",
       "      <td>1</td>\n",
       "      <td>1</td>\n",
       "      <td>1</td>\n",
       "      <td>1</td>\n",
       "      <td>Clouds</td>\n",
       "      <td>1</td>\n",
       "      <td>Clouds</td>\n",
       "      <td>None</td>\n",
       "      <td>None</td>\n",
       "    </tr>\n",
       "    <tr>\n",
       "      <th>1</th>\n",
       "      <td>19.27</td>\n",
       "      <td>7.71</td>\n",
       "      <td>1032</td>\n",
       "      <td>100</td>\n",
       "      <td>3.09</td>\n",
       "      <td>1</td>\n",
       "      <td>1</td>\n",
       "      <td>1</td>\n",
       "      <td>1</td>\n",
       "      <td>Clouds</td>\n",
       "      <td>1</td>\n",
       "      <td>Clouds</td>\n",
       "      <td>None</td>\n",
       "      <td>None</td>\n",
       "    </tr>\n",
       "    <tr>\n",
       "      <th>2</th>\n",
       "      <td>18.57</td>\n",
       "      <td>7.71</td>\n",
       "      <td>1032</td>\n",
       "      <td>100</td>\n",
       "      <td>3.09</td>\n",
       "      <td>1</td>\n",
       "      <td>1</td>\n",
       "      <td>1</td>\n",
       "      <td>1</td>\n",
       "      <td>Clouds</td>\n",
       "      <td>1</td>\n",
       "      <td>Clouds</td>\n",
       "      <td>None</td>\n",
       "      <td>None</td>\n",
       "    </tr>\n",
       "  </tbody>\n",
       "</table>\n",
       "</div>"
      ],
      "text/plain": [
       "   PM 2.5  temp  pressure  humidity  wind_speed  Time of Day  Peak/NoPeak  \\\n",
       "0   18.20  7.71      1032       100        3.09            1            1   \n",
       "1   19.27  7.71      1032       100        3.09            1            1   \n",
       "2   18.57  7.71      1032       100        3.09            1            1   \n",
       "\n",
       "   Day  Week Day Weather  label Weather1 Weather2 Weather3  \n",
       "0    1         1  Clouds      1   Clouds     None     None  \n",
       "1    1         1  Clouds      1   Clouds     None     None  \n",
       "2    1         1  Clouds      1   Clouds     None     None  "
      ]
     },
     "execution_count": 31,
     "metadata": {},
     "output_type": "execute_result"
    }
   ],
   "source": [
    "df.head(3)"
   ]
  },
  {
   "cell_type": "code",
   "execution_count": 32,
   "id": "6ee37a92",
   "metadata": {},
   "outputs": [
    {
     "data": {
      "text/html": [
       "<div>\n",
       "<style scoped>\n",
       "    .dataframe tbody tr th:only-of-type {\n",
       "        vertical-align: middle;\n",
       "    }\n",
       "\n",
       "    .dataframe tbody tr th {\n",
       "        vertical-align: top;\n",
       "    }\n",
       "\n",
       "    .dataframe thead th {\n",
       "        text-align: right;\n",
       "    }\n",
       "</style>\n",
       "<table border=\"1\" class=\"dataframe\">\n",
       "  <thead>\n",
       "    <tr style=\"text-align: right;\">\n",
       "      <th></th>\n",
       "      <th>PM 2.5</th>\n",
       "      <th>temp</th>\n",
       "      <th>pressure</th>\n",
       "      <th>humidity</th>\n",
       "      <th>wind_speed</th>\n",
       "      <th>Time of Day</th>\n",
       "      <th>Peak/NoPeak</th>\n",
       "      <th>Day</th>\n",
       "      <th>Week Day</th>\n",
       "      <th>label</th>\n",
       "      <th>Weather1</th>\n",
       "      <th>Weather2</th>\n",
       "      <th>Weather3</th>\n",
       "    </tr>\n",
       "  </thead>\n",
       "  <tbody>\n",
       "    <tr>\n",
       "      <th>0</th>\n",
       "      <td>18.20</td>\n",
       "      <td>7.71</td>\n",
       "      <td>1032</td>\n",
       "      <td>100</td>\n",
       "      <td>3.09</td>\n",
       "      <td>1</td>\n",
       "      <td>1</td>\n",
       "      <td>1</td>\n",
       "      <td>1</td>\n",
       "      <td>1</td>\n",
       "      <td>Clouds</td>\n",
       "      <td>None</td>\n",
       "      <td>None</td>\n",
       "    </tr>\n",
       "    <tr>\n",
       "      <th>1</th>\n",
       "      <td>19.27</td>\n",
       "      <td>7.71</td>\n",
       "      <td>1032</td>\n",
       "      <td>100</td>\n",
       "      <td>3.09</td>\n",
       "      <td>1</td>\n",
       "      <td>1</td>\n",
       "      <td>1</td>\n",
       "      <td>1</td>\n",
       "      <td>1</td>\n",
       "      <td>Clouds</td>\n",
       "      <td>None</td>\n",
       "      <td>None</td>\n",
       "    </tr>\n",
       "    <tr>\n",
       "      <th>2</th>\n",
       "      <td>18.57</td>\n",
       "      <td>7.71</td>\n",
       "      <td>1032</td>\n",
       "      <td>100</td>\n",
       "      <td>3.09</td>\n",
       "      <td>1</td>\n",
       "      <td>1</td>\n",
       "      <td>1</td>\n",
       "      <td>1</td>\n",
       "      <td>1</td>\n",
       "      <td>Clouds</td>\n",
       "      <td>None</td>\n",
       "      <td>None</td>\n",
       "    </tr>\n",
       "    <tr>\n",
       "      <th>3</th>\n",
       "      <td>17.85</td>\n",
       "      <td>7.71</td>\n",
       "      <td>1032</td>\n",
       "      <td>100</td>\n",
       "      <td>3.09</td>\n",
       "      <td>1</td>\n",
       "      <td>1</td>\n",
       "      <td>1</td>\n",
       "      <td>1</td>\n",
       "      <td>1</td>\n",
       "      <td>Clouds</td>\n",
       "      <td>None</td>\n",
       "      <td>None</td>\n",
       "    </tr>\n",
       "    <tr>\n",
       "      <th>4</th>\n",
       "      <td>25.95</td>\n",
       "      <td>7.71</td>\n",
       "      <td>1032</td>\n",
       "      <td>100</td>\n",
       "      <td>3.09</td>\n",
       "      <td>1</td>\n",
       "      <td>1</td>\n",
       "      <td>1</td>\n",
       "      <td>1</td>\n",
       "      <td>1</td>\n",
       "      <td>Clouds</td>\n",
       "      <td>None</td>\n",
       "      <td>None</td>\n",
       "    </tr>\n",
       "  </tbody>\n",
       "</table>\n",
       "</div>"
      ],
      "text/plain": [
       "   PM 2.5  temp  pressure  humidity  wind_speed  Time of Day  Peak/NoPeak  \\\n",
       "0   18.20  7.71      1032       100        3.09            1            1   \n",
       "1   19.27  7.71      1032       100        3.09            1            1   \n",
       "2   18.57  7.71      1032       100        3.09            1            1   \n",
       "3   17.85  7.71      1032       100        3.09            1            1   \n",
       "4   25.95  7.71      1032       100        3.09            1            1   \n",
       "\n",
       "   Day  Week Day  label Weather1 Weather2 Weather3  \n",
       "0    1         1      1   Clouds     None     None  \n",
       "1    1         1      1   Clouds     None     None  \n",
       "2    1         1      1   Clouds     None     None  \n",
       "3    1         1      1   Clouds     None     None  \n",
       "4    1         1      1   Clouds     None     None  "
      ]
     },
     "execution_count": 32,
     "metadata": {},
     "output_type": "execute_result"
    }
   ],
   "source": [
    "#drop Weather column.\n",
    "df.drop(columns = ['Weather'], axis = 1, inplace = True)\n",
    "\n",
    "df.head(5)"
   ]
  },
  {
   "cell_type": "code",
   "execution_count": 33,
   "id": "7ede3b66",
   "metadata": {},
   "outputs": [],
   "source": [
    "le = LabelEncoder()"
   ]
  },
  {
   "cell_type": "code",
   "execution_count": 34,
   "id": "d2d2208c",
   "metadata": {
    "scrolled": false
   },
   "outputs": [
    {
     "name": "stderr",
     "output_type": "stream",
     "text": [
      "C:\\Users\\pinil\\anaconda3\\lib\\site-packages\\sklearn\\preprocessing\\_label.py:115: DataConversionWarning: A column-vector y was passed when a 1d array was expected. Please change the shape of y to (n_samples, ), for example using ravel().\n",
      "  y = column_or_1d(y, warn=True)\n"
     ]
    },
    {
     "name": "stdout",
     "output_type": "stream",
     "text": [
      "['Clear' 'Clouds' 'Drizzle' 'Fog' 'Haze' 'Mist' 'Rain' 'Snow' 'Squall'\n",
      " 'Thunderstorm']\n",
      "Clear ----> 0\n",
      "Clouds ----> 1\n",
      "Drizzle ----> 2\n",
      "Fog ----> 3\n",
      "Haze ----> 4\n",
      "Mist ----> 5\n",
      "Rain ----> 6\n",
      "Snow ----> 7\n",
      "Squall ----> 8\n",
      "Thunderstorm ----> 9\n"
     ]
    }
   ],
   "source": [
    "#Encode Weather1 column\n",
    "\n",
    "df['Weather4'] = le.fit_transform(df[['Weather1']])\n",
    "\n",
    "k = np.sort(df['Weather1'].unique())\n",
    "\n",
    "print(k)\n",
    "\n",
    "j = 0\n",
    "for i in k:\n",
    "    print(i, \"---->\", j)\n",
    "    j = j + 1"
   ]
  },
  {
   "cell_type": "code",
   "execution_count": 35,
   "id": "288f8ba6",
   "metadata": {},
   "outputs": [
    {
     "name": "stdout",
     "output_type": "stream",
     "text": [
      "Rain ----> 6\n",
      "Mist ----> 5\n",
      "Snow ----> 7\n",
      "Fog ----> 3\n",
      "Squall ----> 8\n"
     ]
    }
   ],
   "source": [
    "#manual encode Weather2 column.\n",
    "df.replace({'Weather2' : {'Rain' : 6, 'Mist' : 5, 'Snow' : 7, 'Fog' : 3, 'Squall' : 8}}, inplace = True)\n",
    "print(\"Rain ----> 6\")\n",
    "print(\"Mist ----> 5\")\n",
    "print(\"Snow ----> 7\")\n",
    "print(\"Fog ----> 3\")\n",
    "print(\"Squall ----> 8\")"
   ]
  },
  {
   "cell_type": "code",
   "execution_count": 36,
   "id": "de8cd902",
   "metadata": {},
   "outputs": [
    {
     "name": "stdout",
     "output_type": "stream",
     "text": [
      "Mist ----> 5\n",
      "Fog ----> 3\n"
     ]
    }
   ],
   "source": [
    "#manual encode Weather3 column.\n",
    "df.replace({'Weather3' : {'Mist' : 5, 'Fog' : 3}}, inplace = True)\n",
    "print(\"Mist ----> 5\")\n",
    "print(\"Fog ----> 3\")"
   ]
  },
  {
   "cell_type": "code",
   "execution_count": 37,
   "id": "71d64847",
   "metadata": {},
   "outputs": [
    {
     "data": {
      "text/html": [
       "<div>\n",
       "<style scoped>\n",
       "    .dataframe tbody tr th:only-of-type {\n",
       "        vertical-align: middle;\n",
       "    }\n",
       "\n",
       "    .dataframe tbody tr th {\n",
       "        vertical-align: top;\n",
       "    }\n",
       "\n",
       "    .dataframe thead th {\n",
       "        text-align: right;\n",
       "    }\n",
       "</style>\n",
       "<table border=\"1\" class=\"dataframe\">\n",
       "  <thead>\n",
       "    <tr style=\"text-align: right;\">\n",
       "      <th></th>\n",
       "      <th>PM 2.5</th>\n",
       "      <th>temp</th>\n",
       "      <th>pressure</th>\n",
       "      <th>humidity</th>\n",
       "      <th>wind_speed</th>\n",
       "      <th>Time of Day</th>\n",
       "      <th>Peak/NoPeak</th>\n",
       "      <th>Day</th>\n",
       "      <th>Week Day</th>\n",
       "      <th>label</th>\n",
       "      <th>Weather1</th>\n",
       "      <th>Weather2</th>\n",
       "      <th>Weather3</th>\n",
       "      <th>Weather4</th>\n",
       "    </tr>\n",
       "  </thead>\n",
       "  <tbody>\n",
       "    <tr>\n",
       "      <th>0</th>\n",
       "      <td>18.20</td>\n",
       "      <td>7.71</td>\n",
       "      <td>1032</td>\n",
       "      <td>100</td>\n",
       "      <td>3.09</td>\n",
       "      <td>1</td>\n",
       "      <td>1</td>\n",
       "      <td>1</td>\n",
       "      <td>1</td>\n",
       "      <td>1</td>\n",
       "      <td>Clouds</td>\n",
       "      <td>NaN</td>\n",
       "      <td>NaN</td>\n",
       "      <td>1</td>\n",
       "    </tr>\n",
       "    <tr>\n",
       "      <th>1</th>\n",
       "      <td>19.27</td>\n",
       "      <td>7.71</td>\n",
       "      <td>1032</td>\n",
       "      <td>100</td>\n",
       "      <td>3.09</td>\n",
       "      <td>1</td>\n",
       "      <td>1</td>\n",
       "      <td>1</td>\n",
       "      <td>1</td>\n",
       "      <td>1</td>\n",
       "      <td>Clouds</td>\n",
       "      <td>NaN</td>\n",
       "      <td>NaN</td>\n",
       "      <td>1</td>\n",
       "    </tr>\n",
       "    <tr>\n",
       "      <th>2</th>\n",
       "      <td>18.57</td>\n",
       "      <td>7.71</td>\n",
       "      <td>1032</td>\n",
       "      <td>100</td>\n",
       "      <td>3.09</td>\n",
       "      <td>1</td>\n",
       "      <td>1</td>\n",
       "      <td>1</td>\n",
       "      <td>1</td>\n",
       "      <td>1</td>\n",
       "      <td>Clouds</td>\n",
       "      <td>NaN</td>\n",
       "      <td>NaN</td>\n",
       "      <td>1</td>\n",
       "    </tr>\n",
       "    <tr>\n",
       "      <th>3</th>\n",
       "      <td>17.85</td>\n",
       "      <td>7.71</td>\n",
       "      <td>1032</td>\n",
       "      <td>100</td>\n",
       "      <td>3.09</td>\n",
       "      <td>1</td>\n",
       "      <td>1</td>\n",
       "      <td>1</td>\n",
       "      <td>1</td>\n",
       "      <td>1</td>\n",
       "      <td>Clouds</td>\n",
       "      <td>NaN</td>\n",
       "      <td>NaN</td>\n",
       "      <td>1</td>\n",
       "    </tr>\n",
       "    <tr>\n",
       "      <th>4</th>\n",
       "      <td>25.95</td>\n",
       "      <td>7.71</td>\n",
       "      <td>1032</td>\n",
       "      <td>100</td>\n",
       "      <td>3.09</td>\n",
       "      <td>1</td>\n",
       "      <td>1</td>\n",
       "      <td>1</td>\n",
       "      <td>1</td>\n",
       "      <td>1</td>\n",
       "      <td>Clouds</td>\n",
       "      <td>NaN</td>\n",
       "      <td>NaN</td>\n",
       "      <td>1</td>\n",
       "    </tr>\n",
       "  </tbody>\n",
       "</table>\n",
       "</div>"
      ],
      "text/plain": [
       "   PM 2.5  temp  pressure  humidity  wind_speed  Time of Day  Peak/NoPeak  \\\n",
       "0   18.20  7.71      1032       100        3.09            1            1   \n",
       "1   19.27  7.71      1032       100        3.09            1            1   \n",
       "2   18.57  7.71      1032       100        3.09            1            1   \n",
       "3   17.85  7.71      1032       100        3.09            1            1   \n",
       "4   25.95  7.71      1032       100        3.09            1            1   \n",
       "\n",
       "   Day  Week Day  label Weather1  Weather2  Weather3  Weather4  \n",
       "0    1         1      1   Clouds       NaN       NaN         1  \n",
       "1    1         1      1   Clouds       NaN       NaN         1  \n",
       "2    1         1      1   Clouds       NaN       NaN         1  \n",
       "3    1         1      1   Clouds       NaN       NaN         1  \n",
       "4    1         1      1   Clouds       NaN       NaN         1  "
      ]
     },
     "execution_count": 37,
     "metadata": {},
     "output_type": "execute_result"
    }
   ],
   "source": [
    "df.head(5)"
   ]
  },
  {
   "cell_type": "code",
   "execution_count": 38,
   "id": "562daf5e",
   "metadata": {},
   "outputs": [
    {
     "data": {
      "text/html": [
       "<div>\n",
       "<style scoped>\n",
       "    .dataframe tbody tr th:only-of-type {\n",
       "        vertical-align: middle;\n",
       "    }\n",
       "\n",
       "    .dataframe tbody tr th {\n",
       "        vertical-align: top;\n",
       "    }\n",
       "\n",
       "    .dataframe thead th {\n",
       "        text-align: right;\n",
       "    }\n",
       "</style>\n",
       "<table border=\"1\" class=\"dataframe\">\n",
       "  <thead>\n",
       "    <tr style=\"text-align: right;\">\n",
       "      <th></th>\n",
       "      <th>PM 2.5</th>\n",
       "      <th>temp</th>\n",
       "      <th>pressure</th>\n",
       "      <th>humidity</th>\n",
       "      <th>wind_speed</th>\n",
       "      <th>Time of Day</th>\n",
       "      <th>Peak/NoPeak</th>\n",
       "      <th>Day</th>\n",
       "      <th>Week Day</th>\n",
       "      <th>label</th>\n",
       "      <th>Weather1</th>\n",
       "      <th>Weather2</th>\n",
       "      <th>Weather3</th>\n",
       "    </tr>\n",
       "  </thead>\n",
       "  <tbody>\n",
       "    <tr>\n",
       "      <th>0</th>\n",
       "      <td>18.20</td>\n",
       "      <td>7.71</td>\n",
       "      <td>1032</td>\n",
       "      <td>100</td>\n",
       "      <td>3.09</td>\n",
       "      <td>1</td>\n",
       "      <td>1</td>\n",
       "      <td>1</td>\n",
       "      <td>1</td>\n",
       "      <td>1</td>\n",
       "      <td>1</td>\n",
       "      <td>NaN</td>\n",
       "      <td>NaN</td>\n",
       "    </tr>\n",
       "    <tr>\n",
       "      <th>1</th>\n",
       "      <td>19.27</td>\n",
       "      <td>7.71</td>\n",
       "      <td>1032</td>\n",
       "      <td>100</td>\n",
       "      <td>3.09</td>\n",
       "      <td>1</td>\n",
       "      <td>1</td>\n",
       "      <td>1</td>\n",
       "      <td>1</td>\n",
       "      <td>1</td>\n",
       "      <td>1</td>\n",
       "      <td>NaN</td>\n",
       "      <td>NaN</td>\n",
       "    </tr>\n",
       "    <tr>\n",
       "      <th>2</th>\n",
       "      <td>18.57</td>\n",
       "      <td>7.71</td>\n",
       "      <td>1032</td>\n",
       "      <td>100</td>\n",
       "      <td>3.09</td>\n",
       "      <td>1</td>\n",
       "      <td>1</td>\n",
       "      <td>1</td>\n",
       "      <td>1</td>\n",
       "      <td>1</td>\n",
       "      <td>1</td>\n",
       "      <td>NaN</td>\n",
       "      <td>NaN</td>\n",
       "    </tr>\n",
       "    <tr>\n",
       "      <th>3</th>\n",
       "      <td>17.85</td>\n",
       "      <td>7.71</td>\n",
       "      <td>1032</td>\n",
       "      <td>100</td>\n",
       "      <td>3.09</td>\n",
       "      <td>1</td>\n",
       "      <td>1</td>\n",
       "      <td>1</td>\n",
       "      <td>1</td>\n",
       "      <td>1</td>\n",
       "      <td>1</td>\n",
       "      <td>NaN</td>\n",
       "      <td>NaN</td>\n",
       "    </tr>\n",
       "    <tr>\n",
       "      <th>4</th>\n",
       "      <td>25.95</td>\n",
       "      <td>7.71</td>\n",
       "      <td>1032</td>\n",
       "      <td>100</td>\n",
       "      <td>3.09</td>\n",
       "      <td>1</td>\n",
       "      <td>1</td>\n",
       "      <td>1</td>\n",
       "      <td>1</td>\n",
       "      <td>1</td>\n",
       "      <td>1</td>\n",
       "      <td>NaN</td>\n",
       "      <td>NaN</td>\n",
       "    </tr>\n",
       "  </tbody>\n",
       "</table>\n",
       "</div>"
      ],
      "text/plain": [
       "   PM 2.5  temp  pressure  humidity  wind_speed  Time of Day  Peak/NoPeak  \\\n",
       "0   18.20  7.71      1032       100        3.09            1            1   \n",
       "1   19.27  7.71      1032       100        3.09            1            1   \n",
       "2   18.57  7.71      1032       100        3.09            1            1   \n",
       "3   17.85  7.71      1032       100        3.09            1            1   \n",
       "4   25.95  7.71      1032       100        3.09            1            1   \n",
       "\n",
       "   Day  Week Day  label  Weather1  Weather2  Weather3  \n",
       "0    1         1      1         1       NaN       NaN  \n",
       "1    1         1      1         1       NaN       NaN  \n",
       "2    1         1      1         1       NaN       NaN  \n",
       "3    1         1      1         1       NaN       NaN  \n",
       "4    1         1      1         1       NaN       NaN  "
      ]
     },
     "execution_count": 38,
     "metadata": {},
     "output_type": "execute_result"
    }
   ],
   "source": [
    "#copy Weather4 column values to the Weather1 column.\n",
    "df['Weather1'] = df['Weather4']\n",
    "\n",
    "#drop weather4 column.\n",
    "df.drop(columns = 'Weather4', axis = 1, inplace = True)\n",
    "\n",
    "df.head(5)"
   ]
  },
  {
   "cell_type": "markdown",
   "id": "fc4091e5",
   "metadata": {},
   "source": [
    "## Add a category PM 2.5 level"
   ]
  },
  {
   "cell_type": "markdown",
   "id": "1dccf127",
   "metadata": {},
   "source": [
    "A PM 2.5 level obtained following the range of values\n",
    "\n",
    "Between [0 and 10] - lowest risks to increase pulmonary disease - PM 2.5 Level 1\n",
    "\n",
    "Between ]10 and 15], PM 2.5 level = 2\n",
    "\n",
    "Between ]15 and 25], PM 2.5 level = 3\n",
    "\n",
    "Between ]25 and 35], PM 2.5 level = 4\n",
    "\n",
    "PM 2.5 > 35, PM 2.5 level = 5 - long term mortality risks"
   ]
  },
  {
   "cell_type": "code",
   "execution_count": 40,
   "id": "1edf53a0",
   "metadata": {},
   "outputs": [],
   "source": [
    "def func(f):\n",
    "    if (0 < f <= 10):\n",
    "        df['PM 2.5 Level'] = 1\n",
    "    elif (10 < f <= 15):\n",
    "        df['PM 2.5 Level'] = 2\n",
    "    elif (15 < f <= 25):\n",
    "        df['PM 2.5 Level'] = 3\n",
    "    elif (25 < f <= 35):\n",
    "        df['PM 2.5 Level'] = 4\n",
    "    else: \n",
    "        df['PM 2.5 Level'] = 5"
   ]
  },
  {
   "cell_type": "code",
   "execution_count": null,
   "id": "1b39656f",
   "metadata": {},
   "outputs": [],
   "source": [
    "df['PM 2.5'].apply(func)"
   ]
  },
  {
   "cell_type": "code",
   "execution_count": null,
   "id": "66dce48e",
   "metadata": {},
   "outputs": [],
   "source": []
  }
 ],
 "metadata": {
  "kernelspec": {
   "display_name": "Python 3 (ipykernel)",
   "language": "python",
   "name": "python3"
  },
  "language_info": {
   "codemirror_mode": {
    "name": "ipython",
    "version": 3
   },
   "file_extension": ".py",
   "mimetype": "text/x-python",
   "name": "python",
   "nbconvert_exporter": "python",
   "pygments_lexer": "ipython3",
   "version": "3.9.13"
  }
 },
 "nbformat": 4,
 "nbformat_minor": 5
}
